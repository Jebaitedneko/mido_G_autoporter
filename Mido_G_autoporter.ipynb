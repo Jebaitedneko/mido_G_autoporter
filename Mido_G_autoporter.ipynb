{
  "nbformat": 4,
  "nbformat_minor": 0,
  "metadata": {
    "colab": {
      "name": "Welcome To Colaboratory",
      "provenance": [],
      "collapsed_sections": [],
      "toc_visible": true
    },
    "kernelspec": {
      "display_name": "Python 3",
      "name": "python3"
    }
  },
  "cells": [
    {
      "cell_type": "code",
      "metadata": {
        "id": "THSyDSmPWI-m",
        "colab_type": "code",
        "colab": {}
      },
      "source": [
        "!git clone https://github.com/Jebaitedneko/mido_G_autoporter"
      ],
      "execution_count": 0,
      "outputs": []
    },
    {
      "cell_type": "code",
      "metadata": {
        "id": "rSXfRIO8WJA6",
        "colab_type": "code",
        "colab": {}
      },
      "source": [
        "!cd mido_G_autoporter && wget \"https://mirrorbits.lineageos.org/full/mido/20200407/lineage-16.0-20200407-nightly-mido-signed.zip\""
      ],
      "execution_count": 0,
      "outputs": []
    },
    {
      "cell_type": "code",
      "metadata": {
        "id": "_b5MC0CSWJDj",
        "colab_type": "code",
        "colab": {}
      },
      "source": [
        "!cd mido_G_autoporter && sudo ./port.sh lineage-16.0-20200407-nightly-mido-signed.zip"
      ],
      "execution_count": 0,
      "outputs": []
    },
    {
      "cell_type": "code",
      "metadata": {
        "id": "UvDZAjOfWSg_",
        "colab_type": "code",
        "colab": {}
      },
      "source": [
        "!mv mido_G_autoporter/!ROMNAME! /content/drive"
      ],
      "execution_count": 0,
      "outputs": []
    }
  ]
}