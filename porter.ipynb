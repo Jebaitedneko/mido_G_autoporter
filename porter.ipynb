{
  "nbformat": 4,
  "nbformat_minor": 0,
  "metadata": {
    "colab": {
      "name": "porter",
      "provenance": []
    },
    "kernelspec": {
      "name": "python3",
      "display_name": "Python 3"
    }
  },
  "cells": [
    {
      "cell_type": "code",
      "metadata": {
        "id": "NyRZpZCy8xe7",
        "colab_type": "code",
        "colab": {}
      },
      "source": [
        "#@title Rom Link\n",
        "\n",
        "link = '' #@param {type:\"string\"}\n",
        "\n",
        "![ -d porter ] && rm -rf porter && echo \"old dir removed\"\n",
        "\n",
        "![ -e rom_PORT.zip ] && rm rom_PORT.zip && echo \"old file removed\"\n",
        "\n",
        "!git clone --depth=1 https://github.com/Jebaitedneko/mido_G_autoporter porter\n",
        "\n",
        "!wget $link -O porter/rom.zip\n",
        "\n",
        "!cd porter && sudo ./port.sh rom.zip && mv rom_PORT.zip ../\n",
        "\n",
        "!curl --upload-file ./rom_PORT.zip https://transfer.sh/rom_PORT.zip"
      ],
      "execution_count": 0,
      "outputs": []
    }
  ]
}
